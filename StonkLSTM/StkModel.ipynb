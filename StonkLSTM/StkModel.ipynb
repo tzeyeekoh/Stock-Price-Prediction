{
 "metadata": {
  "language_info": {
   "codemirror_mode": {
    "name": "ipython",
    "version": 3
   },
   "file_extension": ".py",
   "mimetype": "text/x-python",
   "name": "python",
   "nbconvert_exporter": "python",
   "pygments_lexer": "ipython3",
   "version": "3.9.5"
  },
  "orig_nbformat": 4,
  "kernelspec": {
   "name": "python3",
   "display_name": "Python 3.9.5 64-bit"
  },
  "interpreter": {
   "hash": "c6fcfcbf326c04660551532f4c9dfcf61ab7875571d724cd2e0fd2dd9a69bd67"
  }
 },
 "nbformat": 4,
 "nbformat_minor": 2,
 "cells": [
  {
   "cell_type": "code",
   "execution_count": 10,
   "metadata": {},
   "outputs": [],
   "source": [
    "import math\n",
    "import matplotlib.pyplot as plt\n",
    "import keras\n",
    "import pandas as pd\n",
    "import numpy as np\n",
    "from keras.models import Sequential\n",
    "from keras.layers import Dense\n",
    "from keras.layers import LSTM\n",
    "from keras.layers import Dropout\n",
    "from keras.layers import *\n",
    "from keras.metrics import mean_absolute_error\n",
    "from sklearn.preprocessing import MinMaxScaler\n",
    "# from sklearn.metrics import mean_squared_error\n",
    "# from sklearn.metrics import mean_absolute_error\n",
    "# from sklearn.model_selection import train_test_split\n",
    "# from keras.callbacks import EarlyStopping"
   ]
  },
  {
   "cell_type": "code",
   "execution_count": 2,
   "metadata": {},
   "outputs": [
    {
     "output_type": "execute_result",
     "data": {
      "text/plain": [
       "           Date        Open        High         Low       Close     Volume  \\\n",
       "0    2015-12-31  185.031928  185.717460  183.895370  183.895370  114877900   \n",
       "1    2016-01-04  180.846545  181.333631  179.132693  181.324615  222353500   \n",
       "2    2016-01-05  181.667361  182.118373  180.449639  181.631287  110845800   \n",
       "3    2016-01-06  178.907168  180.458648  178.239680  179.340149  152112600   \n",
       "4    2016-01-07  176.192125  178.095394  174.622600  175.037537  213436100   \n",
       "...         ...         ...         ...         ...         ...        ...   \n",
       "1380 2021-06-25  425.899994  427.089996  425.549988  426.609985   58129500   \n",
       "1381 2021-06-28  427.170013  427.649994  425.890015  427.470001   53159600   \n",
       "1382 2021-06-29  427.880005  428.559998  427.130005  427.700012   35970500   \n",
       "1383 2021-06-30  427.209991  428.779999  427.179993  428.059998   64827900   \n",
       "1384 2021-07-01  428.869995  430.600006  428.799988  430.429993   53365900   \n",
       "\n",
       "      Dividends  Stock Splits  \n",
       "0           0.0             0  \n",
       "1           0.0             0  \n",
       "2           0.0             0  \n",
       "3           0.0             0  \n",
       "4           0.0             0  \n",
       "...         ...           ...  \n",
       "1380        0.0             0  \n",
       "1381        0.0             0  \n",
       "1382        0.0             0  \n",
       "1383        0.0             0  \n",
       "1384        0.0             0  \n",
       "\n",
       "[1385 rows x 8 columns]"
      ],
      "text/html": "<div>\n<style scoped>\n    .dataframe tbody tr th:only-of-type {\n        vertical-align: middle;\n    }\n\n    .dataframe tbody tr th {\n        vertical-align: top;\n    }\n\n    .dataframe thead th {\n        text-align: right;\n    }\n</style>\n<table border=\"1\" class=\"dataframe\">\n  <thead>\n    <tr style=\"text-align: right;\">\n      <th></th>\n      <th>Date</th>\n      <th>Open</th>\n      <th>High</th>\n      <th>Low</th>\n      <th>Close</th>\n      <th>Volume</th>\n      <th>Dividends</th>\n      <th>Stock Splits</th>\n    </tr>\n  </thead>\n  <tbody>\n    <tr>\n      <th>0</th>\n      <td>2015-12-31</td>\n      <td>185.031928</td>\n      <td>185.717460</td>\n      <td>183.895370</td>\n      <td>183.895370</td>\n      <td>114877900</td>\n      <td>0.0</td>\n      <td>0</td>\n    </tr>\n    <tr>\n      <th>1</th>\n      <td>2016-01-04</td>\n      <td>180.846545</td>\n      <td>181.333631</td>\n      <td>179.132693</td>\n      <td>181.324615</td>\n      <td>222353500</td>\n      <td>0.0</td>\n      <td>0</td>\n    </tr>\n    <tr>\n      <th>2</th>\n      <td>2016-01-05</td>\n      <td>181.667361</td>\n      <td>182.118373</td>\n      <td>180.449639</td>\n      <td>181.631287</td>\n      <td>110845800</td>\n      <td>0.0</td>\n      <td>0</td>\n    </tr>\n    <tr>\n      <th>3</th>\n      <td>2016-01-06</td>\n      <td>178.907168</td>\n      <td>180.458648</td>\n      <td>178.239680</td>\n      <td>179.340149</td>\n      <td>152112600</td>\n      <td>0.0</td>\n      <td>0</td>\n    </tr>\n    <tr>\n      <th>4</th>\n      <td>2016-01-07</td>\n      <td>176.192125</td>\n      <td>178.095394</td>\n      <td>174.622600</td>\n      <td>175.037537</td>\n      <td>213436100</td>\n      <td>0.0</td>\n      <td>0</td>\n    </tr>\n    <tr>\n      <th>...</th>\n      <td>...</td>\n      <td>...</td>\n      <td>...</td>\n      <td>...</td>\n      <td>...</td>\n      <td>...</td>\n      <td>...</td>\n      <td>...</td>\n    </tr>\n    <tr>\n      <th>1380</th>\n      <td>2021-06-25</td>\n      <td>425.899994</td>\n      <td>427.089996</td>\n      <td>425.549988</td>\n      <td>426.609985</td>\n      <td>58129500</td>\n      <td>0.0</td>\n      <td>0</td>\n    </tr>\n    <tr>\n      <th>1381</th>\n      <td>2021-06-28</td>\n      <td>427.170013</td>\n      <td>427.649994</td>\n      <td>425.890015</td>\n      <td>427.470001</td>\n      <td>53159600</td>\n      <td>0.0</td>\n      <td>0</td>\n    </tr>\n    <tr>\n      <th>1382</th>\n      <td>2021-06-29</td>\n      <td>427.880005</td>\n      <td>428.559998</td>\n      <td>427.130005</td>\n      <td>427.700012</td>\n      <td>35970500</td>\n      <td>0.0</td>\n      <td>0</td>\n    </tr>\n    <tr>\n      <th>1383</th>\n      <td>2021-06-30</td>\n      <td>427.209991</td>\n      <td>428.779999</td>\n      <td>427.179993</td>\n      <td>428.059998</td>\n      <td>64827900</td>\n      <td>0.0</td>\n      <td>0</td>\n    </tr>\n    <tr>\n      <th>1384</th>\n      <td>2021-07-01</td>\n      <td>428.869995</td>\n      <td>430.600006</td>\n      <td>428.799988</td>\n      <td>430.429993</td>\n      <td>53365900</td>\n      <td>0.0</td>\n      <td>0</td>\n    </tr>\n  </tbody>\n</table>\n<p>1385 rows × 8 columns</p>\n</div>"
     },
     "metadata": {},
     "execution_count": 2
    }
   ],
   "source": [
    "import yfinance as yf\n",
    "\n",
    "Stk = yf.Ticker(\"SPY\")\n",
    "df = Stk.history(start='2016-01-01')\n",
    "df.reset_index(level=0, inplace=True)\n",
    "df"
   ]
  },
  {
   "cell_type": "code",
   "execution_count": 3,
   "metadata": {},
   "outputs": [],
   "source": [
    "training_set = df.iloc[:, 1:2].values\n",
    "# test_set = df.iloc[800:, 1:2].values"
   ]
  },
  {
   "cell_type": "code",
   "execution_count": 4,
   "metadata": {},
   "outputs": [],
   "source": [
    "# split a univariate sequence into samples\n",
    "def split_sequence(sequence, n_steps):\n",
    "\tX, y = list(), list()\n",
    "\tfor i in range(len(sequence)):\n",
    "\t\t# find the end of this pattern\n",
    "\t\tend_ix = i + n_steps\n",
    "\t\t# check if we are beyond the sequence\n",
    "\t\tif end_ix > len(sequence)-1:\n",
    "\t\t\tbreak\n",
    "\t\t# gather input and output parts of the pattern\n",
    "\t\tseq_x, seq_y = sequence[i:end_ix], sequence[end_ix]\n",
    "\t\tX.append(seq_x)\n",
    "\t\ty.append(seq_y)\n",
    "\treturn np.array(X), np.array(y)"
   ]
  },
  {
   "cell_type": "code",
   "execution_count": 5,
   "metadata": {},
   "outputs": [
    {
     "output_type": "stream",
     "name": "stdout",
     "text": [
      "[0.07775155 0.06192152 0.06502603 ... 0.99625564 0.99372151 1.        ]\n"
     ]
    },
    {
     "output_type": "execute_result",
     "data": {
      "text/plain": [
       "((1325, 60, 1), (1325,))"
      ]
     },
     "metadata": {},
     "execution_count": 5
    }
   ],
   "source": [
    "sc = MinMaxScaler(feature_range = (0, 1))\n",
    "training_set_scaled = sc.fit_transform(training_set)\n",
    "training_set_scaled = np.reshape(training_set_scaled,len(training_set_scaled))\n",
    "print(training_set_scaled)\n",
    "\n",
    "X_train, y_train = split_sequence(training_set_scaled, 60)\n",
    "X_train = X_train.reshape((X_train.shape[0], X_train.shape[1], 1))\n",
    "X_train.shape, y_train.shape"
   ]
  },
  {
   "cell_type": "code",
   "execution_count": 11,
   "metadata": {},
   "outputs": [
    {
     "output_type": "stream",
     "name": "stdout",
     "text": [
      "Epoch 1/150\n",
      "42/42 [==============================] - 13s 58ms/step - loss: 0.0641 - mean_absolute_error: 0.1769\n",
      "Epoch 2/150\n",
      "42/42 [==============================] - 2s 58ms/step - loss: 0.0015 - mean_absolute_error: 0.0278\n",
      "Epoch 3/150\n",
      "42/42 [==============================] - 3s 60ms/step - loss: 8.1752e-04 - mean_absolute_error: 0.0180\n",
      "Epoch 4/150\n",
      "42/42 [==============================] - 3s 65ms/step - loss: 9.1142e-04 - mean_absolute_error: 0.0182\n",
      "Epoch 5/150\n",
      "42/42 [==============================] - 2s 56ms/step - loss: 7.0868e-04 - mean_absolute_error: 0.0167\n",
      "Epoch 6/150\n",
      "42/42 [==============================] - 2s 55ms/step - loss: 6.7219e-04 - mean_absolute_error: 0.0169\n",
      "Epoch 7/150\n",
      "42/42 [==============================] - 2s 54ms/step - loss: 5.5489e-04 - mean_absolute_error: 0.0156\n",
      "Epoch 8/150\n",
      "42/42 [==============================] - 3s 60ms/step - loss: 6.5212e-04 - mean_absolute_error: 0.0164\n",
      "Epoch 9/150\n",
      "42/42 [==============================] - 2s 57ms/step - loss: 6.9700e-04 - mean_absolute_error: 0.0165\n",
      "Epoch 10/150\n",
      "42/42 [==============================] - 3s 61ms/step - loss: 5.5665e-04 - mean_absolute_error: 0.0147\n",
      "Epoch 11/150\n",
      "42/42 [==============================] - 3s 65ms/step - loss: 6.5442e-04 - mean_absolute_error: 0.0168\n",
      "Epoch 12/150\n",
      "42/42 [==============================] - 3s 67ms/step - loss: 5.7053e-04 - mean_absolute_error: 0.0153\n",
      "Epoch 13/150\n",
      "42/42 [==============================] - 3s 65ms/step - loss: 5.9562e-04 - mean_absolute_error: 0.0150\n",
      "Epoch 14/150\n",
      "42/42 [==============================] - 3s 60ms/step - loss: 6.0648e-04 - mean_absolute_error: 0.0162\n",
      "Epoch 15/150\n",
      "42/42 [==============================] - 3s 65ms/step - loss: 4.7417e-04 - mean_absolute_error: 0.0139\n",
      "Epoch 16/150\n",
      "42/42 [==============================] - 3s 69ms/step - loss: 4.7529e-04 - mean_absolute_error: 0.0142\n",
      "Epoch 17/150\n",
      "42/42 [==============================] - 2s 53ms/step - loss: 5.1049e-04 - mean_absolute_error: 0.0142\n",
      "Epoch 18/150\n",
      "42/42 [==============================] - 2s 58ms/step - loss: 5.7927e-04 - mean_absolute_error: 0.0161\n",
      "Epoch 19/150\n",
      "42/42 [==============================] - 3s 65ms/step - loss: 4.6213e-04 - mean_absolute_error: 0.0138\n",
      "Epoch 20/150\n",
      "42/42 [==============================] - 3s 66ms/step - loss: 3.9455e-04 - mean_absolute_error: 0.0132\n",
      "Epoch 21/150\n",
      "42/42 [==============================] - 3s 66ms/step - loss: 4.2073e-04 - mean_absolute_error: 0.0133\n",
      "Epoch 22/150\n",
      "42/42 [==============================] - 3s 68ms/step - loss: 4.2509e-04 - mean_absolute_error: 0.0135\n",
      "Epoch 23/150\n",
      "42/42 [==============================] - 3s 67ms/step - loss: 4.4136e-04 - mean_absolute_error: 0.0137\n",
      "Epoch 24/150\n",
      "42/42 [==============================] - 3s 64ms/step - loss: 3.8208e-04 - mean_absolute_error: 0.0130\n",
      "Epoch 25/150\n",
      "42/42 [==============================] - 3s 73ms/step - loss: 3.5019e-04 - mean_absolute_error: 0.0125\n",
      "Epoch 26/150\n",
      "42/42 [==============================] - 3s 73ms/step - loss: 3.9287e-04 - mean_absolute_error: 0.0127\n",
      "Epoch 27/150\n",
      "42/42 [==============================] - 3s 73ms/step - loss: 3.1089e-04 - mean_absolute_error: 0.0120\n",
      "Epoch 28/150\n",
      "42/42 [==============================] - 3s 73ms/step - loss: 3.9121e-04 - mean_absolute_error: 0.0128\n",
      "Epoch 29/150\n",
      "42/42 [==============================] - 2s 54ms/step - loss: 4.5373e-04 - mean_absolute_error: 0.0145\n",
      "Epoch 30/150\n",
      "42/42 [==============================] - 2s 53ms/step - loss: 2.8299e-04 - mean_absolute_error: 0.0110\n",
      "Epoch 31/150\n",
      "42/42 [==============================] - 2s 54ms/step - loss: 3.3098e-04 - mean_absolute_error: 0.0119\n",
      "Epoch 32/150\n",
      "42/42 [==============================] - 2s 54ms/step - loss: 3.1094e-04 - mean_absolute_error: 0.0115\n",
      "Epoch 33/150\n",
      "42/42 [==============================] - 2s 56ms/step - loss: 2.9771e-04 - mean_absolute_error: 0.0120\n",
      "Epoch 34/150\n",
      "42/42 [==============================] - 2s 53ms/step - loss: 2.5281e-04 - mean_absolute_error: 0.0107\n",
      "Epoch 35/150\n",
      "42/42 [==============================] - 2s 53ms/step - loss: 2.9101e-04 - mean_absolute_error: 0.0113\n",
      "Epoch 36/150\n",
      "42/42 [==============================] - 2s 54ms/step - loss: 3.0831e-04 - mean_absolute_error: 0.0117\n",
      "Epoch 37/150\n",
      "42/42 [==============================] - 2s 54ms/step - loss: 3.0164e-04 - mean_absolute_error: 0.0115\n",
      "Epoch 38/150\n",
      "42/42 [==============================] - 2s 59ms/step - loss: 2.6525e-04 - mean_absolute_error: 0.0110\n",
      "Epoch 39/150\n",
      "42/42 [==============================] - 2s 57ms/step - loss: 3.0227e-04 - mean_absolute_error: 0.0116\n",
      "Epoch 40/150\n",
      "42/42 [==============================] - 2s 54ms/step - loss: 2.5238e-04 - mean_absolute_error: 0.0102\n",
      "Epoch 41/150\n",
      "42/42 [==============================] - 2s 54ms/step - loss: 2.9423e-04 - mean_absolute_error: 0.0115\n",
      "Epoch 42/150\n",
      "42/42 [==============================] - 2s 54ms/step - loss: 2.5150e-04 - mean_absolute_error: 0.0105\n",
      "Epoch 43/150\n",
      "42/42 [==============================] - 2s 53ms/step - loss: 2.4958e-04 - mean_absolute_error: 0.0105\n",
      "Epoch 44/150\n",
      "42/42 [==============================] - 2s 55ms/step - loss: 2.6104e-04 - mean_absolute_error: 0.0107\n",
      "Epoch 45/150\n",
      "42/42 [==============================] - 2s 55ms/step - loss: 3.0622e-04 - mean_absolute_error: 0.0117\n",
      "Epoch 46/150\n",
      "42/42 [==============================] - 2s 53ms/step - loss: 3.3405e-04 - mean_absolute_error: 0.0126\n",
      "Epoch 47/150\n",
      "42/42 [==============================] - 2s 54ms/step - loss: 2.8035e-04 - mean_absolute_error: 0.0110\n",
      "Epoch 48/150\n",
      "42/42 [==============================] - 2s 54ms/step - loss: 2.1244e-04 - mean_absolute_error: 0.0096\n",
      "Epoch 49/150\n",
      "42/42 [==============================] - 2s 54ms/step - loss: 2.5999e-04 - mean_absolute_error: 0.0111\n",
      "Epoch 50/150\n",
      "42/42 [==============================] - 2s 53ms/step - loss: 2.0966e-04 - mean_absolute_error: 0.0096\n",
      "Epoch 51/150\n",
      "42/42 [==============================] - 2s 53ms/step - loss: 1.9569e-04 - mean_absolute_error: 0.0092\n",
      "Epoch 52/150\n",
      "42/42 [==============================] - 2s 54ms/step - loss: 2.3396e-04 - mean_absolute_error: 0.0102\n",
      "Epoch 53/150\n",
      "42/42 [==============================] - 2s 53ms/step - loss: 2.5260e-04 - mean_absolute_error: 0.0103\n",
      "Epoch 54/150\n",
      "42/42 [==============================] - 2s 53ms/step - loss: 3.0086e-04 - mean_absolute_error: 0.0122\n",
      "Epoch 55/150\n",
      "42/42 [==============================] - 2s 53ms/step - loss: 2.2245e-04 - mean_absolute_error: 0.0101\n",
      "Epoch 56/150\n",
      "42/42 [==============================] - 2s 53ms/step - loss: 1.9530e-04 - mean_absolute_error: 0.0095\n",
      "Epoch 57/150\n",
      "42/42 [==============================] - 2s 54ms/step - loss: 2.1194e-04 - mean_absolute_error: 0.0096\n",
      "Epoch 58/150\n",
      "42/42 [==============================] - 2s 54ms/step - loss: 2.8470e-04 - mean_absolute_error: 0.0124\n",
      "Epoch 59/150\n",
      "42/42 [==============================] - 2s 53ms/step - loss: 2.0609e-04 - mean_absolute_error: 0.0098\n",
      "Epoch 60/150\n",
      "42/42 [==============================] - 2s 54ms/step - loss: 2.3925e-04 - mean_absolute_error: 0.0105\n",
      "Epoch 61/150\n",
      "42/42 [==============================] - 2s 54ms/step - loss: 2.2330e-04 - mean_absolute_error: 0.0098\n",
      "Epoch 62/150\n",
      "42/42 [==============================] - 2s 54ms/step - loss: 2.5299e-04 - mean_absolute_error: 0.0106\n",
      "Epoch 63/150\n",
      "42/42 [==============================] - 3s 72ms/step - loss: 2.2505e-04 - mean_absolute_error: 0.0101\n",
      "Epoch 64/150\n",
      "42/42 [==============================] - 3s 60ms/step - loss: 2.0259e-04 - mean_absolute_error: 0.0097\n",
      "Epoch 65/150\n",
      "42/42 [==============================] - 3s 60ms/step - loss: 2.4044e-04 - mean_absolute_error: 0.0098\n",
      "Epoch 66/150\n",
      "42/42 [==============================] - 2s 59ms/step - loss: 1.8203e-04 - mean_absolute_error: 0.0087\n",
      "Epoch 67/150\n",
      "42/42 [==============================] - 3s 64ms/step - loss: 2.1907e-04 - mean_absolute_error: 0.0102\n",
      "Epoch 68/150\n",
      "42/42 [==============================] - 3s 66ms/step - loss: 1.8012e-04 - mean_absolute_error: 0.0090\n",
      "Epoch 69/150\n",
      "42/42 [==============================] - 3s 63ms/step - loss: 1.8444e-04 - mean_absolute_error: 0.0090\n",
      "Epoch 70/150\n",
      "42/42 [==============================] - 3s 69ms/step - loss: 1.8993e-04 - mean_absolute_error: 0.0096\n",
      "Epoch 71/150\n",
      "42/42 [==============================] - 3s 69ms/step - loss: 1.6709e-04 - mean_absolute_error: 0.0087\n",
      "Epoch 72/150\n",
      "42/42 [==============================] - 3s 60ms/step - loss: 1.7937e-04 - mean_absolute_error: 0.0088\n",
      "Epoch 73/150\n",
      "42/42 [==============================] - 2s 54ms/step - loss: 1.6266e-04 - mean_absolute_error: 0.0088\n",
      "Epoch 74/150\n",
      "42/42 [==============================] - 2s 53ms/step - loss: 1.5902e-04 - mean_absolute_error: 0.0082\n",
      "Epoch 75/150\n",
      "42/42 [==============================] - 2s 54ms/step - loss: 1.8292e-04 - mean_absolute_error: 0.0089\n",
      "Epoch 76/150\n",
      "42/42 [==============================] - 2s 54ms/step - loss: 1.9737e-04 - mean_absolute_error: 0.0094\n",
      "Epoch 77/150\n",
      "42/42 [==============================] - 2s 54ms/step - loss: 2.3274e-04 - mean_absolute_error: 0.0099\n",
      "Epoch 78/150\n",
      "42/42 [==============================] - 2s 55ms/step - loss: 1.7483e-04 - mean_absolute_error: 0.0086\n",
      "Epoch 79/150\n",
      "42/42 [==============================] - 2s 53ms/step - loss: 2.7831e-04 - mean_absolute_error: 0.0118\n",
      "Epoch 80/150\n",
      "42/42 [==============================] - 2s 58ms/step - loss: 1.4611e-04 - mean_absolute_error: 0.0080\n",
      "Epoch 81/150\n",
      "42/42 [==============================] - 2s 54ms/step - loss: 1.6353e-04 - mean_absolute_error: 0.0081\n",
      "Epoch 82/150\n",
      "42/42 [==============================] - 2s 53ms/step - loss: 1.7695e-04 - mean_absolute_error: 0.0085\n",
      "Epoch 83/150\n",
      "42/42 [==============================] - 2s 57ms/step - loss: 1.6184e-04 - mean_absolute_error: 0.0084\n",
      "Epoch 84/150\n",
      "42/42 [==============================] - 3s 73ms/step - loss: 1.8526e-04 - mean_absolute_error: 0.0092\n",
      "Epoch 85/150\n",
      "42/42 [==============================] - 3s 62ms/step - loss: 1.8530e-04 - mean_absolute_error: 0.0094\n",
      "Epoch 86/150\n",
      "42/42 [==============================] - 3s 66ms/step - loss: 1.5969e-04 - mean_absolute_error: 0.0085\n",
      "Epoch 87/150\n",
      "42/42 [==============================] - 2s 57ms/step - loss: 1.6125e-04 - mean_absolute_error: 0.0081\n",
      "Epoch 88/150\n",
      "42/42 [==============================] - 2s 54ms/step - loss: 1.5425e-04 - mean_absolute_error: 0.0080\n",
      "Epoch 89/150\n",
      "42/42 [==============================] - 2s 54ms/step - loss: 1.7366e-04 - mean_absolute_error: 0.0085\n",
      "Epoch 90/150\n",
      "42/42 [==============================] - 2s 55ms/step - loss: 1.3266e-04 - mean_absolute_error: 0.0078\n",
      "Epoch 91/150\n",
      "42/42 [==============================] - 2s 54ms/step - loss: 1.7821e-04 - mean_absolute_error: 0.0095\n",
      "Epoch 92/150\n",
      "42/42 [==============================] - 2s 54ms/step - loss: 1.9566e-04 - mean_absolute_error: 0.0102\n",
      "Epoch 93/150\n",
      "42/42 [==============================] - 2s 55ms/step - loss: 1.7052e-04 - mean_absolute_error: 0.0088\n",
      "Epoch 94/150\n",
      "42/42 [==============================] - 2s 55ms/step - loss: 1.5663e-04 - mean_absolute_error: 0.0083\n",
      "Epoch 95/150\n",
      "42/42 [==============================] - 2s 55ms/step - loss: 2.3323e-04 - mean_absolute_error: 0.0103\n",
      "Epoch 96/150\n",
      "42/42 [==============================] - 2s 54ms/step - loss: 1.7539e-04 - mean_absolute_error: 0.0087\n",
      "Epoch 97/150\n",
      "42/42 [==============================] - 2s 54ms/step - loss: 1.5138e-04 - mean_absolute_error: 0.0081\n",
      "Epoch 98/150\n",
      "42/42 [==============================] - 2s 54ms/step - loss: 1.5228e-04 - mean_absolute_error: 0.0081\n",
      "Epoch 99/150\n",
      "42/42 [==============================] - 2s 54ms/step - loss: 1.5156e-04 - mean_absolute_error: 0.0084\n",
      "Epoch 100/150\n",
      "42/42 [==============================] - 2s 54ms/step - loss: 1.4992e-04 - mean_absolute_error: 0.0080\n",
      "Epoch 101/150\n",
      "42/42 [==============================] - 2s 54ms/step - loss: 1.8655e-04 - mean_absolute_error: 0.0092\n",
      "Epoch 102/150\n",
      "42/42 [==============================] - 2s 54ms/step - loss: 1.4209e-04 - mean_absolute_error: 0.0078\n",
      "Epoch 103/150\n",
      "42/42 [==============================] - 2s 55ms/step - loss: 1.6741e-04 - mean_absolute_error: 0.0084\n",
      "Epoch 104/150\n",
      "42/42 [==============================] - 2s 54ms/step - loss: 1.5799e-04 - mean_absolute_error: 0.0082\n",
      "Epoch 105/150\n",
      "42/42 [==============================] - 2s 54ms/step - loss: 1.5978e-04 - mean_absolute_error: 0.0085\n",
      "Epoch 106/150\n",
      "42/42 [==============================] - 2s 54ms/step - loss: 1.5680e-04 - mean_absolute_error: 0.0081\n",
      "Epoch 107/150\n",
      "42/42 [==============================] - 2s 54ms/step - loss: 1.5918e-04 - mean_absolute_error: 0.0082\n",
      "Epoch 108/150\n",
      "42/42 [==============================] - 2s 54ms/step - loss: 1.4043e-04 - mean_absolute_error: 0.0077\n",
      "Epoch 109/150\n",
      "42/42 [==============================] - 2s 57ms/step - loss: 1.8203e-04 - mean_absolute_error: 0.0095\n",
      "Epoch 110/150\n",
      "42/42 [==============================] - 3s 60ms/step - loss: 1.8418e-04 - mean_absolute_error: 0.0090\n",
      "Epoch 111/150\n",
      "42/42 [==============================] - 2s 54ms/step - loss: 1.9772e-04 - mean_absolute_error: 0.0101\n",
      "Epoch 112/150\n",
      "42/42 [==============================] - 2s 57ms/step - loss: 1.6223e-04 - mean_absolute_error: 0.0091\n",
      "Epoch 113/150\n",
      "42/42 [==============================] - 2s 53ms/step - loss: 1.4160e-04 - mean_absolute_error: 0.0082\n",
      "Epoch 114/150\n",
      "42/42 [==============================] - 2s 53ms/step - loss: 1.3670e-04 - mean_absolute_error: 0.0073\n",
      "Epoch 115/150\n",
      "42/42 [==============================] - 2s 57ms/step - loss: 1.4817e-04 - mean_absolute_error: 0.0087\n",
      "Epoch 116/150\n",
      "42/42 [==============================] - 2s 56ms/step - loss: 1.4361e-04 - mean_absolute_error: 0.0079\n",
      "Epoch 117/150\n",
      "42/42 [==============================] - 2s 56ms/step - loss: 1.7136e-04 - mean_absolute_error: 0.0086\n",
      "Epoch 118/150\n",
      "42/42 [==============================] - 2s 58ms/step - loss: 1.8313e-04 - mean_absolute_error: 0.0086\n",
      "Epoch 119/150\n",
      "42/42 [==============================] - 2s 55ms/step - loss: 1.4148e-04 - mean_absolute_error: 0.0076\n",
      "Epoch 120/150\n",
      "42/42 [==============================] - 2s 54ms/step - loss: 1.4220e-04 - mean_absolute_error: 0.0079\n",
      "Epoch 121/150\n",
      "42/42 [==============================] - 2s 54ms/step - loss: 1.5167e-04 - mean_absolute_error: 0.0083\n",
      "Epoch 122/150\n",
      "42/42 [==============================] - 2s 54ms/step - loss: 1.6680e-04 - mean_absolute_error: 0.0093\n",
      "Epoch 123/150\n",
      "42/42 [==============================] - 2s 54ms/step - loss: 1.5941e-04 - mean_absolute_error: 0.0085\n",
      "Epoch 124/150\n",
      "42/42 [==============================] - 2s 54ms/step - loss: 1.2823e-04 - mean_absolute_error: 0.0074\n",
      "Epoch 125/150\n",
      "42/42 [==============================] - 2s 54ms/step - loss: 1.5581e-04 - mean_absolute_error: 0.0084\n",
      "Epoch 126/150\n",
      "42/42 [==============================] - 2s 55ms/step - loss: 1.4258e-04 - mean_absolute_error: 0.0076\n",
      "Epoch 127/150\n",
      "42/42 [==============================] - 2s 55ms/step - loss: 1.4619e-04 - mean_absolute_error: 0.0080\n",
      "Epoch 128/150\n",
      "42/42 [==============================] - 2s 54ms/step - loss: 1.7518e-04 - mean_absolute_error: 0.0093\n",
      "Epoch 129/150\n",
      "42/42 [==============================] - 2s 55ms/step - loss: 1.6274e-04 - mean_absolute_error: 0.0082\n",
      "Epoch 130/150\n",
      "42/42 [==============================] - 2s 55ms/step - loss: 1.3448e-04 - mean_absolute_error: 0.0077\n",
      "Epoch 131/150\n",
      "42/42 [==============================] - 2s 54ms/step - loss: 1.6268e-04 - mean_absolute_error: 0.0087\n",
      "Epoch 132/150\n",
      "42/42 [==============================] - 2s 53ms/step - loss: 1.8496e-04 - mean_absolute_error: 0.0092\n",
      "Epoch 133/150\n",
      "42/42 [==============================] - 2s 53ms/step - loss: 1.4952e-04 - mean_absolute_error: 0.0078\n",
      "Epoch 134/150\n",
      "42/42 [==============================] - 2s 56ms/step - loss: 1.3673e-04 - mean_absolute_error: 0.0077\n",
      "Epoch 135/150\n",
      "42/42 [==============================] - 2s 53ms/step - loss: 1.4735e-04 - mean_absolute_error: 0.0079\n",
      "Epoch 136/150\n",
      "42/42 [==============================] - 2s 54ms/step - loss: 1.6463e-04 - mean_absolute_error: 0.0085\n",
      "Epoch 137/150\n",
      "42/42 [==============================] - 2s 56ms/step - loss: 1.4571e-04 - mean_absolute_error: 0.0085\n",
      "Epoch 138/150\n",
      "42/42 [==============================] - 2s 54ms/step - loss: 1.7020e-04 - mean_absolute_error: 0.0090\n",
      "Epoch 139/150\n",
      "42/42 [==============================] - 3s 62ms/step - loss: 1.4352e-04 - mean_absolute_error: 0.0079\n",
      "Epoch 140/150\n",
      "42/42 [==============================] - 2s 55ms/step - loss: 1.3541e-04 - mean_absolute_error: 0.0078\n",
      "Epoch 141/150\n",
      "42/42 [==============================] - 2s 54ms/step - loss: 1.7052e-04 - mean_absolute_error: 0.0090\n",
      "Epoch 142/150\n",
      "42/42 [==============================] - 2s 54ms/step - loss: 1.5296e-04 - mean_absolute_error: 0.0085\n",
      "Epoch 143/150\n",
      "42/42 [==============================] - 2s 53ms/step - loss: 1.2852e-04 - mean_absolute_error: 0.0077\n",
      "Epoch 144/150\n",
      "42/42 [==============================] - 2s 54ms/step - loss: 1.4726e-04 - mean_absolute_error: 0.0082\n",
      "Epoch 145/150\n",
      "42/42 [==============================] - 2s 54ms/step - loss: 1.5726e-04 - mean_absolute_error: 0.0083\n",
      "Epoch 146/150\n",
      "42/42 [==============================] - 2s 59ms/step - loss: 1.6218e-04 - mean_absolute_error: 0.0084\n",
      "Epoch 147/150\n",
      "42/42 [==============================] - 3s 62ms/step - loss: 1.5394e-04 - mean_absolute_error: 0.0086\n",
      "Epoch 148/150\n",
      "42/42 [==============================] - 3s 66ms/step - loss: 1.2940e-04 - mean_absolute_error: 0.0077\n",
      "Epoch 149/150\n",
      "42/42 [==============================] - 3s 64ms/step - loss: 1.3996e-04 - mean_absolute_error: 0.0079\n",
      "Epoch 150/150\n",
      "42/42 [==============================] - 3s 64ms/step - loss: 1.4677e-04 - mean_absolute_error: 0.0079\n"
     ]
    },
    {
     "output_type": "execute_result",
     "data": {
      "text/plain": [
       "<keras.callbacks.History at 0x1c1deed5040>"
      ]
     },
     "metadata": {},
     "execution_count": 11
    }
   ],
   "source": [
    "model = Sequential()\n",
    "#Adding the first LSTM layer and some Dropout regularisation\n",
    "model.add(LSTM(units = 50, return_sequences=True, input_shape = (60,1)))\n",
    "# model.add(Dropout(0.2))\n",
    "# # Adding a second LSTM layer and some Dropout regularisation\n",
    "model.add(LSTM(units = 50))\n",
    "# model.add(Dropout(0.2))\n",
    "# # Adding a third LSTM layer and some Dropout regularisation\n",
    "# model.add(LSTM(units = 50))\n",
    "# model.add(Dropout(0.2))\n",
    "# # Adding a fourth LSTM layer and some Dropout regularisation\n",
    "# model.add(LSTM(units = 50))\n",
    "# model.add(Dropout(0.2))\n",
    "# Adding the output layer\n",
    "model.add(Dense(units = 1))\n",
    "\n",
    "# Compiling the RNN\n",
    "model.compile(optimizer = 'adam', loss = 'mse', metrics=[mean_absolute_error])\n",
    "\n",
    "# Fitting the RNN to the Training set\n",
    "model.fit(X_train, y_train, epochs = 150, batch_size=32)\n"
   ]
  },
  {
   "cell_type": "code",
   "execution_count": 12,
   "metadata": {},
   "outputs": [],
   "source": [
    "def X_input(inputs):\n",
    "    inputs = sc.fit_transform(inputs)\n",
    "    inputs = np.array(inputs)\n",
    "    inputs = np.reshape(inputs,(1,60,1))\n",
    "    return inputs\n",
    "input1 = df.iloc[len(df)-60:len(df), 1:2].values\n",
    "Xinputs = X_input(input1)"
   ]
  },
  {
   "cell_type": "code",
   "execution_count": 13,
   "metadata": {},
   "outputs": [
    {
     "output_type": "stream",
     "name": "stdout",
     "text": [
      "[[430.42999268]\n [428.81564331]\n [428.44091797]\n [427.99685669]]\n"
     ]
    },
    {
     "output_type": "execute_result",
     "data": {
      "text/plain": [
       "[<matplotlib.lines.Line2D at 0x1c1e0e54700>]"
      ]
     },
     "metadata": {},
     "execution_count": 13
    },
    {
     "output_type": "display_data",
     "data": {
      "text/plain": "<Figure size 432x288 with 1 Axes>",
      "image/svg+xml": "<?xml version=\"1.0\" encoding=\"utf-8\" standalone=\"no\"?>\r\n<!DOCTYPE svg PUBLIC \"-//W3C//DTD SVG 1.1//EN\"\r\n  \"http://www.w3.org/Graphics/SVG/1.1/DTD/svg11.dtd\">\r\n<svg height=\"248.518125pt\" version=\"1.1\" viewBox=\"0 0 384.828125 248.518125\" width=\"384.828125pt\" xmlns=\"http://www.w3.org/2000/svg\" xmlns:xlink=\"http://www.w3.org/1999/xlink\">\r\n <metadata>\r\n  <rdf:RDF xmlns:cc=\"http://creativecommons.org/ns#\" xmlns:dc=\"http://purl.org/dc/elements/1.1/\" xmlns:rdf=\"http://www.w3.org/1999/02/22-rdf-syntax-ns#\">\r\n   <cc:Work>\r\n    <dc:type rdf:resource=\"http://purl.org/dc/dcmitype/StillImage\"/>\r\n    <dc:date>2021-07-02T14:36:16.671837</dc:date>\r\n    <dc:format>image/svg+xml</dc:format>\r\n    <dc:creator>\r\n     <cc:Agent>\r\n      <dc:title>Matplotlib v3.4.2, https://matplotlib.org/</dc:title>\r\n     </cc:Agent>\r\n    </dc:creator>\r\n   </cc:Work>\r\n  </rdf:RDF>\r\n </metadata>\r\n <defs>\r\n  <style type=\"text/css\">*{stroke-linecap:butt;stroke-linejoin:round;}</style>\r\n </defs>\r\n <g id=\"figure_1\">\r\n  <g id=\"patch_1\">\r\n   <path d=\"M 0 248.518125 \r\nL 384.828125 248.518125 \r\nL 384.828125 0 \r\nL 0 0 \r\nz\r\n\" style=\"fill:none;\"/>\r\n  </g>\r\n  <g id=\"axes_1\">\r\n   <g id=\"patch_2\">\r\n    <path d=\"M 42.828125 224.64 \r\nL 377.628125 224.64 \r\nL 377.628125 7.2 \r\nL 42.828125 7.2 \r\nz\r\n\" style=\"fill:#ffffff;\"/>\r\n   </g>\r\n   <g id=\"matplotlib.axis_1\">\r\n    <g id=\"xtick_1\">\r\n     <g id=\"line2d_1\">\r\n      <defs>\r\n       <path d=\"M 0 0 \r\nL 0 3.5 \r\n\" id=\"m225a15c076\" style=\"stroke:#000000;stroke-width:0.8;\"/>\r\n      </defs>\r\n      <g>\r\n       <use style=\"stroke:#000000;stroke-width:0.8;\" x=\"58.046307\" xlink:href=\"#m225a15c076\" y=\"224.64\"/>\r\n      </g>\r\n     </g>\r\n     <g id=\"text_1\">\r\n      <!-- 1.0 -->\r\n      <g transform=\"translate(50.094744 239.238438)scale(0.1 -0.1)\">\r\n       <defs>\r\n        <path d=\"M 794 531 \r\nL 1825 531 \r\nL 1825 4091 \r\nL 703 3866 \r\nL 703 4441 \r\nL 1819 4666 \r\nL 2450 4666 \r\nL 2450 531 \r\nL 3481 531 \r\nL 3481 0 \r\nL 794 0 \r\nL 794 531 \r\nz\r\n\" id=\"DejaVuSans-31\" transform=\"scale(0.015625)\"/>\r\n        <path d=\"M 684 794 \r\nL 1344 794 \r\nL 1344 0 \r\nL 684 0 \r\nL 684 794 \r\nz\r\n\" id=\"DejaVuSans-2e\" transform=\"scale(0.015625)\"/>\r\n        <path d=\"M 2034 4250 \r\nQ 1547 4250 1301 3770 \r\nQ 1056 3291 1056 2328 \r\nQ 1056 1369 1301 889 \r\nQ 1547 409 2034 409 \r\nQ 2525 409 2770 889 \r\nQ 3016 1369 3016 2328 \r\nQ 3016 3291 2770 3770 \r\nQ 2525 4250 2034 4250 \r\nz\r\nM 2034 4750 \r\nQ 2819 4750 3233 4129 \r\nQ 3647 3509 3647 2328 \r\nQ 3647 1150 3233 529 \r\nQ 2819 -91 2034 -91 \r\nQ 1250 -91 836 529 \r\nQ 422 1150 422 2328 \r\nQ 422 3509 836 4129 \r\nQ 1250 4750 2034 4750 \r\nz\r\n\" id=\"DejaVuSans-30\" transform=\"scale(0.015625)\"/>\r\n       </defs>\r\n       <use xlink:href=\"#DejaVuSans-31\"/>\r\n       <use x=\"63.623047\" xlink:href=\"#DejaVuSans-2e\"/>\r\n       <use x=\"95.410156\" xlink:href=\"#DejaVuSans-30\"/>\r\n      </g>\r\n     </g>\r\n    </g>\r\n    <g id=\"xtick_2\">\r\n     <g id=\"line2d_2\">\r\n      <g>\r\n       <use style=\"stroke:#000000;stroke-width:0.8;\" x=\"108.77358\" xlink:href=\"#m225a15c076\" y=\"224.64\"/>\r\n      </g>\r\n     </g>\r\n     <g id=\"text_2\">\r\n      <!-- 1.5 -->\r\n      <g transform=\"translate(100.822017 239.238438)scale(0.1 -0.1)\">\r\n       <defs>\r\n        <path d=\"M 691 4666 \r\nL 3169 4666 \r\nL 3169 4134 \r\nL 1269 4134 \r\nL 1269 2991 \r\nQ 1406 3038 1543 3061 \r\nQ 1681 3084 1819 3084 \r\nQ 2600 3084 3056 2656 \r\nQ 3513 2228 3513 1497 \r\nQ 3513 744 3044 326 \r\nQ 2575 -91 1722 -91 \r\nQ 1428 -91 1123 -41 \r\nQ 819 9 494 109 \r\nL 494 744 \r\nQ 775 591 1075 516 \r\nQ 1375 441 1709 441 \r\nQ 2250 441 2565 725 \r\nQ 2881 1009 2881 1497 \r\nQ 2881 1984 2565 2268 \r\nQ 2250 2553 1709 2553 \r\nQ 1456 2553 1204 2497 \r\nQ 953 2441 691 2322 \r\nL 691 4666 \r\nz\r\n\" id=\"DejaVuSans-35\" transform=\"scale(0.015625)\"/>\r\n       </defs>\r\n       <use xlink:href=\"#DejaVuSans-31\"/>\r\n       <use x=\"63.623047\" xlink:href=\"#DejaVuSans-2e\"/>\r\n       <use x=\"95.410156\" xlink:href=\"#DejaVuSans-35\"/>\r\n      </g>\r\n     </g>\r\n    </g>\r\n    <g id=\"xtick_3\">\r\n     <g id=\"line2d_3\">\r\n      <g>\r\n       <use style=\"stroke:#000000;stroke-width:0.8;\" x=\"159.500852\" xlink:href=\"#m225a15c076\" y=\"224.64\"/>\r\n      </g>\r\n     </g>\r\n     <g id=\"text_3\">\r\n      <!-- 2.0 -->\r\n      <g transform=\"translate(151.54929 239.238438)scale(0.1 -0.1)\">\r\n       <defs>\r\n        <path d=\"M 1228 531 \r\nL 3431 531 \r\nL 3431 0 \r\nL 469 0 \r\nL 469 531 \r\nQ 828 903 1448 1529 \r\nQ 2069 2156 2228 2338 \r\nQ 2531 2678 2651 2914 \r\nQ 2772 3150 2772 3378 \r\nQ 2772 3750 2511 3984 \r\nQ 2250 4219 1831 4219 \r\nQ 1534 4219 1204 4116 \r\nQ 875 4013 500 3803 \r\nL 500 4441 \r\nQ 881 4594 1212 4672 \r\nQ 1544 4750 1819 4750 \r\nQ 2544 4750 2975 4387 \r\nQ 3406 4025 3406 3419 \r\nQ 3406 3131 3298 2873 \r\nQ 3191 2616 2906 2266 \r\nQ 2828 2175 2409 1742 \r\nQ 1991 1309 1228 531 \r\nz\r\n\" id=\"DejaVuSans-32\" transform=\"scale(0.015625)\"/>\r\n       </defs>\r\n       <use xlink:href=\"#DejaVuSans-32\"/>\r\n       <use x=\"63.623047\" xlink:href=\"#DejaVuSans-2e\"/>\r\n       <use x=\"95.410156\" xlink:href=\"#DejaVuSans-30\"/>\r\n      </g>\r\n     </g>\r\n    </g>\r\n    <g id=\"xtick_4\">\r\n     <g id=\"line2d_4\">\r\n      <g>\r\n       <use style=\"stroke:#000000;stroke-width:0.8;\" x=\"210.228125\" xlink:href=\"#m225a15c076\" y=\"224.64\"/>\r\n      </g>\r\n     </g>\r\n     <g id=\"text_4\">\r\n      <!-- 2.5 -->\r\n      <g transform=\"translate(202.276562 239.238438)scale(0.1 -0.1)\">\r\n       <use xlink:href=\"#DejaVuSans-32\"/>\r\n       <use x=\"63.623047\" xlink:href=\"#DejaVuSans-2e\"/>\r\n       <use x=\"95.410156\" xlink:href=\"#DejaVuSans-35\"/>\r\n      </g>\r\n     </g>\r\n    </g>\r\n    <g id=\"xtick_5\">\r\n     <g id=\"line2d_5\">\r\n      <g>\r\n       <use style=\"stroke:#000000;stroke-width:0.8;\" x=\"260.955398\" xlink:href=\"#m225a15c076\" y=\"224.64\"/>\r\n      </g>\r\n     </g>\r\n     <g id=\"text_5\">\r\n      <!-- 3.0 -->\r\n      <g transform=\"translate(253.003835 239.238438)scale(0.1 -0.1)\">\r\n       <defs>\r\n        <path d=\"M 2597 2516 \r\nQ 3050 2419 3304 2112 \r\nQ 3559 1806 3559 1356 \r\nQ 3559 666 3084 287 \r\nQ 2609 -91 1734 -91 \r\nQ 1441 -91 1130 -33 \r\nQ 819 25 488 141 \r\nL 488 750 \r\nQ 750 597 1062 519 \r\nQ 1375 441 1716 441 \r\nQ 2309 441 2620 675 \r\nQ 2931 909 2931 1356 \r\nQ 2931 1769 2642 2001 \r\nQ 2353 2234 1838 2234 \r\nL 1294 2234 \r\nL 1294 2753 \r\nL 1863 2753 \r\nQ 2328 2753 2575 2939 \r\nQ 2822 3125 2822 3475 \r\nQ 2822 3834 2567 4026 \r\nQ 2313 4219 1838 4219 \r\nQ 1578 4219 1281 4162 \r\nQ 984 4106 628 3988 \r\nL 628 4550 \r\nQ 988 4650 1302 4700 \r\nQ 1616 4750 1894 4750 \r\nQ 2613 4750 3031 4423 \r\nQ 3450 4097 3450 3541 \r\nQ 3450 3153 3228 2886 \r\nQ 3006 2619 2597 2516 \r\nz\r\n\" id=\"DejaVuSans-33\" transform=\"scale(0.015625)\"/>\r\n       </defs>\r\n       <use xlink:href=\"#DejaVuSans-33\"/>\r\n       <use x=\"63.623047\" xlink:href=\"#DejaVuSans-2e\"/>\r\n       <use x=\"95.410156\" xlink:href=\"#DejaVuSans-30\"/>\r\n      </g>\r\n     </g>\r\n    </g>\r\n    <g id=\"xtick_6\">\r\n     <g id=\"line2d_6\">\r\n      <g>\r\n       <use style=\"stroke:#000000;stroke-width:0.8;\" x=\"311.68267\" xlink:href=\"#m225a15c076\" y=\"224.64\"/>\r\n      </g>\r\n     </g>\r\n     <g id=\"text_6\">\r\n      <!-- 3.5 -->\r\n      <g transform=\"translate(303.731108 239.238438)scale(0.1 -0.1)\">\r\n       <use xlink:href=\"#DejaVuSans-33\"/>\r\n       <use x=\"63.623047\" xlink:href=\"#DejaVuSans-2e\"/>\r\n       <use x=\"95.410156\" xlink:href=\"#DejaVuSans-35\"/>\r\n      </g>\r\n     </g>\r\n    </g>\r\n    <g id=\"xtick_7\">\r\n     <g id=\"line2d_7\">\r\n      <g>\r\n       <use style=\"stroke:#000000;stroke-width:0.8;\" x=\"362.409943\" xlink:href=\"#m225a15c076\" y=\"224.64\"/>\r\n      </g>\r\n     </g>\r\n     <g id=\"text_7\">\r\n      <!-- 4.0 -->\r\n      <g transform=\"translate(354.458381 239.238438)scale(0.1 -0.1)\">\r\n       <defs>\r\n        <path d=\"M 2419 4116 \r\nL 825 1625 \r\nL 2419 1625 \r\nL 2419 4116 \r\nz\r\nM 2253 4666 \r\nL 3047 4666 \r\nL 3047 1625 \r\nL 3713 1625 \r\nL 3713 1100 \r\nL 3047 1100 \r\nL 3047 0 \r\nL 2419 0 \r\nL 2419 1100 \r\nL 313 1100 \r\nL 313 1709 \r\nL 2253 4666 \r\nz\r\n\" id=\"DejaVuSans-34\" transform=\"scale(0.015625)\"/>\r\n       </defs>\r\n       <use xlink:href=\"#DejaVuSans-34\"/>\r\n       <use x=\"63.623047\" xlink:href=\"#DejaVuSans-2e\"/>\r\n       <use x=\"95.410156\" xlink:href=\"#DejaVuSans-30\"/>\r\n      </g>\r\n     </g>\r\n    </g>\r\n   </g>\r\n   <g id=\"matplotlib.axis_2\">\r\n    <g id=\"ytick_1\">\r\n     <g id=\"line2d_8\">\r\n      <defs>\r\n       <path d=\"M 0 0 \r\nL -3.5 0 \r\n\" id=\"mc93e404843\" style=\"stroke:#000000;stroke-width:0.8;\"/>\r\n      </defs>\r\n      <g>\r\n       <use style=\"stroke:#000000;stroke-width:0.8;\" x=\"42.828125\" xlink:href=\"#mc93e404843\" y=\"214.500995\"/>\r\n      </g>\r\n     </g>\r\n     <g id=\"text_8\">\r\n      <!-- 428.0 -->\r\n      <g transform=\"translate(7.2 218.300214)scale(0.1 -0.1)\">\r\n       <defs>\r\n        <path d=\"M 2034 2216 \r\nQ 1584 2216 1326 1975 \r\nQ 1069 1734 1069 1313 \r\nQ 1069 891 1326 650 \r\nQ 1584 409 2034 409 \r\nQ 2484 409 2743 651 \r\nQ 3003 894 3003 1313 \r\nQ 3003 1734 2745 1975 \r\nQ 2488 2216 2034 2216 \r\nz\r\nM 1403 2484 \r\nQ 997 2584 770 2862 \r\nQ 544 3141 544 3541 \r\nQ 544 4100 942 4425 \r\nQ 1341 4750 2034 4750 \r\nQ 2731 4750 3128 4425 \r\nQ 3525 4100 3525 3541 \r\nQ 3525 3141 3298 2862 \r\nQ 3072 2584 2669 2484 \r\nQ 3125 2378 3379 2068 \r\nQ 3634 1759 3634 1313 \r\nQ 3634 634 3220 271 \r\nQ 2806 -91 2034 -91 \r\nQ 1263 -91 848 271 \r\nQ 434 634 434 1313 \r\nQ 434 1759 690 2068 \r\nQ 947 2378 1403 2484 \r\nz\r\nM 1172 3481 \r\nQ 1172 3119 1398 2916 \r\nQ 1625 2713 2034 2713 \r\nQ 2441 2713 2670 2916 \r\nQ 2900 3119 2900 3481 \r\nQ 2900 3844 2670 4047 \r\nQ 2441 4250 2034 4250 \r\nQ 1625 4250 1398 4047 \r\nQ 1172 3844 1172 3481 \r\nz\r\n\" id=\"DejaVuSans-38\" transform=\"scale(0.015625)\"/>\r\n       </defs>\r\n       <use xlink:href=\"#DejaVuSans-34\"/>\r\n       <use x=\"63.623047\" xlink:href=\"#DejaVuSans-32\"/>\r\n       <use x=\"127.246094\" xlink:href=\"#DejaVuSans-38\"/>\r\n       <use x=\"190.869141\" xlink:href=\"#DejaVuSans-2e\"/>\r\n       <use x=\"222.65625\" xlink:href=\"#DejaVuSans-30\"/>\r\n      </g>\r\n     </g>\r\n    </g>\r\n    <g id=\"ytick_2\">\r\n     <g id=\"line2d_9\">\r\n      <g>\r\n       <use style=\"stroke:#000000;stroke-width:0.8;\" x=\"42.828125\" xlink:href=\"#mc93e404843\" y=\"173.880017\"/>\r\n      </g>\r\n     </g>\r\n     <g id=\"text_9\">\r\n      <!-- 428.5 -->\r\n      <g transform=\"translate(7.2 177.679236)scale(0.1 -0.1)\">\r\n       <use xlink:href=\"#DejaVuSans-34\"/>\r\n       <use x=\"63.623047\" xlink:href=\"#DejaVuSans-32\"/>\r\n       <use x=\"127.246094\" xlink:href=\"#DejaVuSans-38\"/>\r\n       <use x=\"190.869141\" xlink:href=\"#DejaVuSans-2e\"/>\r\n       <use x=\"222.65625\" xlink:href=\"#DejaVuSans-35\"/>\r\n      </g>\r\n     </g>\r\n    </g>\r\n    <g id=\"ytick_3\">\r\n     <g id=\"line2d_10\">\r\n      <g>\r\n       <use style=\"stroke:#000000;stroke-width:0.8;\" x=\"42.828125\" xlink:href=\"#mc93e404843\" y=\"133.259039\"/>\r\n      </g>\r\n     </g>\r\n     <g id=\"text_10\">\r\n      <!-- 429.0 -->\r\n      <g transform=\"translate(7.2 137.058257)scale(0.1 -0.1)\">\r\n       <defs>\r\n        <path d=\"M 703 97 \r\nL 703 672 \r\nQ 941 559 1184 500 \r\nQ 1428 441 1663 441 \r\nQ 2288 441 2617 861 \r\nQ 2947 1281 2994 2138 \r\nQ 2813 1869 2534 1725 \r\nQ 2256 1581 1919 1581 \r\nQ 1219 1581 811 2004 \r\nQ 403 2428 403 3163 \r\nQ 403 3881 828 4315 \r\nQ 1253 4750 1959 4750 \r\nQ 2769 4750 3195 4129 \r\nQ 3622 3509 3622 2328 \r\nQ 3622 1225 3098 567 \r\nQ 2575 -91 1691 -91 \r\nQ 1453 -91 1209 -44 \r\nQ 966 3 703 97 \r\nz\r\nM 1959 2075 \r\nQ 2384 2075 2632 2365 \r\nQ 2881 2656 2881 3163 \r\nQ 2881 3666 2632 3958 \r\nQ 2384 4250 1959 4250 \r\nQ 1534 4250 1286 3958 \r\nQ 1038 3666 1038 3163 \r\nQ 1038 2656 1286 2365 \r\nQ 1534 2075 1959 2075 \r\nz\r\n\" id=\"DejaVuSans-39\" transform=\"scale(0.015625)\"/>\r\n       </defs>\r\n       <use xlink:href=\"#DejaVuSans-34\"/>\r\n       <use x=\"63.623047\" xlink:href=\"#DejaVuSans-32\"/>\r\n       <use x=\"127.246094\" xlink:href=\"#DejaVuSans-39\"/>\r\n       <use x=\"190.869141\" xlink:href=\"#DejaVuSans-2e\"/>\r\n       <use x=\"222.65625\" xlink:href=\"#DejaVuSans-30\"/>\r\n      </g>\r\n     </g>\r\n    </g>\r\n    <g id=\"ytick_4\">\r\n     <g id=\"line2d_11\">\r\n      <g>\r\n       <use style=\"stroke:#000000;stroke-width:0.8;\" x=\"42.828125\" xlink:href=\"#mc93e404843\" y=\"92.638061\"/>\r\n      </g>\r\n     </g>\r\n     <g id=\"text_11\">\r\n      <!-- 429.5 -->\r\n      <g transform=\"translate(7.2 96.437279)scale(0.1 -0.1)\">\r\n       <use xlink:href=\"#DejaVuSans-34\"/>\r\n       <use x=\"63.623047\" xlink:href=\"#DejaVuSans-32\"/>\r\n       <use x=\"127.246094\" xlink:href=\"#DejaVuSans-39\"/>\r\n       <use x=\"190.869141\" xlink:href=\"#DejaVuSans-2e\"/>\r\n       <use x=\"222.65625\" xlink:href=\"#DejaVuSans-35\"/>\r\n      </g>\r\n     </g>\r\n    </g>\r\n    <g id=\"ytick_5\">\r\n     <g id=\"line2d_12\">\r\n      <g>\r\n       <use style=\"stroke:#000000;stroke-width:0.8;\" x=\"42.828125\" xlink:href=\"#mc93e404843\" y=\"52.017083\"/>\r\n      </g>\r\n     </g>\r\n     <g id=\"text_12\">\r\n      <!-- 430.0 -->\r\n      <g transform=\"translate(7.2 55.816301)scale(0.1 -0.1)\">\r\n       <use xlink:href=\"#DejaVuSans-34\"/>\r\n       <use x=\"63.623047\" xlink:href=\"#DejaVuSans-33\"/>\r\n       <use x=\"127.246094\" xlink:href=\"#DejaVuSans-30\"/>\r\n       <use x=\"190.869141\" xlink:href=\"#DejaVuSans-2e\"/>\r\n       <use x=\"222.65625\" xlink:href=\"#DejaVuSans-30\"/>\r\n      </g>\r\n     </g>\r\n    </g>\r\n    <g id=\"ytick_6\">\r\n     <g id=\"line2d_13\">\r\n      <g>\r\n       <use style=\"stroke:#000000;stroke-width:0.8;\" x=\"42.828125\" xlink:href=\"#mc93e404843\" y=\"11.396104\"/>\r\n      </g>\r\n     </g>\r\n     <g id=\"text_13\">\r\n      <!-- 430.5 -->\r\n      <g transform=\"translate(7.2 15.195323)scale(0.1 -0.1)\">\r\n       <use xlink:href=\"#DejaVuSans-34\"/>\r\n       <use x=\"63.623047\" xlink:href=\"#DejaVuSans-33\"/>\r\n       <use x=\"127.246094\" xlink:href=\"#DejaVuSans-30\"/>\r\n       <use x=\"190.869141\" xlink:href=\"#DejaVuSans-2e\"/>\r\n       <use x=\"222.65625\" xlink:href=\"#DejaVuSans-35\"/>\r\n      </g>\r\n     </g>\r\n    </g>\r\n   </g>\r\n   <g id=\"line2d_14\">\r\n    <path clip-path=\"url(#p263555aeab)\" d=\"M 58.046307 17.083636 \r\nL 159.500852 148.236537 \r\nL 260.955398 178.679957 \r\nL 362.409943 214.756364 \r\n\" style=\"fill:none;stroke:#0000ff;stroke-linecap:square;stroke-width:1.5;\"/>\r\n   </g>\r\n   <g id=\"patch_3\">\r\n    <path d=\"M 42.828125 224.64 \r\nL 42.828125 7.2 \r\n\" style=\"fill:none;stroke:#000000;stroke-linecap:square;stroke-linejoin:miter;stroke-width:0.8;\"/>\r\n   </g>\r\n   <g id=\"patch_4\">\r\n    <path d=\"M 377.628125 224.64 \r\nL 377.628125 7.2 \r\n\" style=\"fill:none;stroke:#000000;stroke-linecap:square;stroke-linejoin:miter;stroke-width:0.8;\"/>\r\n   </g>\r\n   <g id=\"patch_5\">\r\n    <path d=\"M 42.828125 224.64 \r\nL 377.628125 224.64 \r\n\" style=\"fill:none;stroke:#000000;stroke-linecap:square;stroke-linejoin:miter;stroke-width:0.8;\"/>\r\n   </g>\r\n   <g id=\"patch_6\">\r\n    <path d=\"M 42.828125 7.2 \r\nL 377.628125 7.2 \r\n\" style=\"fill:none;stroke:#000000;stroke-linecap:square;stroke-linejoin:miter;stroke-width:0.8;\"/>\r\n   </g>\r\n  </g>\r\n </g>\r\n <defs>\r\n  <clipPath id=\"p263555aeab\">\r\n   <rect height=\"217.44\" width=\"334.8\" x=\"42.828125\" y=\"7.2\"/>\r\n  </clipPath>\r\n </defs>\r\n</svg>\r\n",
      "image/png": "[encoded data removed]"
     },
     "metadata": {
      "needs_background": "light"
     }
    }
   ],
   "source": [
    "pred_price_lst = []\n",
    "for i in range(3):\n",
    "    x_price = df.iloc[len(df)-60+i:len(df), 1:2].values\n",
    "    if pred_price_lst:\n",
    "        x_price = np.append(x_price, np.concatenate(pred_price_lst, axis=0), axis=0)\n",
    "    x_price = X_input(x_price)\n",
    "    pred_price_i = model.predict(x_price)\n",
    "    pred_price_i = sc.inverse_transform(pred_price_i)\n",
    "    pred_price_lst.append(pred_price_i)\n",
    "pred_price_lst = np.concatenate(pred_price_lst, axis=0)\n",
    "pred_price_lst = np.concatenate([[df.iloc[len(df)-1:]['Close'].values],pred_price_lst], axis=0)\n",
    "print(pred_price_lst)\n",
    "plt.plot([x for x in range(1,4+1)],np.concatenate(pred_price_lst, axis=0), color = 'blue', label = 'Predicted')"
   ]
  },
  {
   "cell_type": "code",
   "execution_count": 14,
   "metadata": {},
   "outputs": [
    {
     "output_type": "execute_result",
     "data": {
      "text/plain": [
       "array([-1.61434937, -0.37472534, -0.44406128])"
      ]
     },
     "metadata": {},
     "execution_count": 14
    }
   ],
   "source": [
    "diff = np.diff(pred_price_lst.reshape(1,-1)[0])\n",
    "diff"
   ]
  },
  {
   "cell_type": "code",
   "execution_count": 15,
   "metadata": {},
   "outputs": [
    {
     "output_type": "execute_result",
     "data": {
      "text/plain": [
       "[<matplotlib.lines.Line2D at 0x1c1e6e9fbb0>]"
      ]
     },
     "metadata": {},
     "execution_count": 15
    },
    {
     "output_type": "display_data",
     "data": {
      "text/plain": "<Figure size 432x288 with 1 Axes>",
      "image/svg+xml": "<?xml version=\"1.0\" encoding=\"utf-8\" standalone=\"no\"?>\r\n<!DOCTYPE svg PUBLIC \"-//W3C//DTD SVG 1.1//EN\"\r\n  \"http://www.w3.org/Graphics/SVG/1.1/DTD/svg11.dtd\">\r\n<svg height=\"248.518125pt\" version=\"1.1\" viewBox=\"0 0 375.2875 248.518125\" width=\"375.2875pt\" xmlns=\"http://www.w3.org/2000/svg\" xmlns:xlink=\"http://www.w3.org/1999/xlink\">\r\n <metadata>\r\n  <rdf:RDF xmlns:cc=\"http://creativecommons.org/ns#\" xmlns:dc=\"http://purl.org/dc/elements/1.1/\" xmlns:rdf=\"http://www.w3.org/1999/02/22-rdf-syntax-ns#\">\r\n   <cc:Work>\r\n    <dc:type rdf:resource=\"http://purl.org/dc/dcmitype/StillImage\"/>\r\n    <dc:date>2021-07-02T14:36:17.600155</dc:date>\r\n    <dc:format>image/svg+xml</dc:format>\r\n    <dc:creator>\r\n     <cc:Agent>\r\n      <dc:title>Matplotlib v3.4.2, https://matplotlib.org/</dc:title>\r\n     </cc:Agent>\r\n    </dc:creator>\r\n   </cc:Work>\r\n  </rdf:RDF>\r\n </metadata>\r\n <defs>\r\n  <style type=\"text/css\">*{stroke-linecap:butt;stroke-linejoin:round;}</style>\r\n </defs>\r\n <g id=\"figure_1\">\r\n  <g id=\"patch_1\">\r\n   <path d=\"M 0 248.518125 \r\nL 375.2875 248.518125 \r\nL 375.2875 0 \r\nL 0 0 \r\nz\r\n\" style=\"fill:none;\"/>\r\n  </g>\r\n  <g id=\"axes_1\">\r\n   <g id=\"patch_2\">\r\n    <path d=\"M 33.2875 224.64 \r\nL 368.0875 224.64 \r\nL 368.0875 7.2 \r\nL 33.2875 7.2 \r\nz\r\n\" style=\"fill:#ffffff;\"/>\r\n   </g>\r\n   <g id=\"matplotlib.axis_1\">\r\n    <g id=\"xtick_1\">\r\n     <g id=\"line2d_1\">\r\n      <defs>\r\n       <path d=\"M 0 0 \r\nL 0 3.5 \r\n\" id=\"m2b911a93e6\" style=\"stroke:#000000;stroke-width:0.8;\"/>\r\n      </defs>\r\n      <g>\r\n       <use style=\"stroke:#000000;stroke-width:0.8;\" x=\"82.323864\" xlink:href=\"#m2b911a93e6\" y=\"224.64\"/>\r\n      </g>\r\n     </g>\r\n     <g id=\"text_1\">\r\n      <!-- 2 -->\r\n      <g transform=\"translate(79.142614 239.238437)scale(0.1 -0.1)\">\r\n       <defs>\r\n        <path d=\"M 1228 531 \r\nL 3431 531 \r\nL 3431 0 \r\nL 469 0 \r\nL 469 531 \r\nQ 828 903 1448 1529 \r\nQ 2069 2156 2228 2338 \r\nQ 2531 2678 2651 2914 \r\nQ 2772 3150 2772 3378 \r\nQ 2772 3750 2511 3984 \r\nQ 2250 4219 1831 4219 \r\nQ 1534 4219 1204 4116 \r\nQ 875 4013 500 3803 \r\nL 500 4441 \r\nQ 881 4594 1212 4672 \r\nQ 1544 4750 1819 4750 \r\nQ 2544 4750 2975 4387 \r\nQ 3406 4025 3406 3419 \r\nQ 3406 3131 3298 2873 \r\nQ 3191 2616 2906 2266 \r\nQ 2828 2175 2409 1742 \r\nQ 1991 1309 1228 531 \r\nz\r\n\" id=\"DejaVuSans-32\" transform=\"scale(0.015625)\"/>\r\n       </defs>\r\n       <use xlink:href=\"#DejaVuSans-32\"/>\r\n      </g>\r\n     </g>\r\n    </g>\r\n    <g id=\"xtick_2\">\r\n     <g id=\"line2d_2\">\r\n      <g>\r\n       <use style=\"stroke:#000000;stroke-width:0.8;\" x=\"149.960227\" xlink:href=\"#m2b911a93e6\" y=\"224.64\"/>\r\n      </g>\r\n     </g>\r\n     <g id=\"text_2\">\r\n      <!-- 4 -->\r\n      <g transform=\"translate(146.778977 239.238437)scale(0.1 -0.1)\">\r\n       <defs>\r\n        <path d=\"M 2419 4116 \r\nL 825 1625 \r\nL 2419 1625 \r\nL 2419 4116 \r\nz\r\nM 2253 4666 \r\nL 3047 4666 \r\nL 3047 1625 \r\nL 3713 1625 \r\nL 3713 1100 \r\nL 3047 1100 \r\nL 3047 0 \r\nL 2419 0 \r\nL 2419 1100 \r\nL 313 1100 \r\nL 313 1709 \r\nL 2253 4666 \r\nz\r\n\" id=\"DejaVuSans-34\" transform=\"scale(0.015625)\"/>\r\n       </defs>\r\n       <use xlink:href=\"#DejaVuSans-34\"/>\r\n      </g>\r\n     </g>\r\n    </g>\r\n    <g id=\"xtick_3\">\r\n     <g id=\"line2d_3\">\r\n      <g>\r\n       <use style=\"stroke:#000000;stroke-width:0.8;\" x=\"217.596591\" xlink:href=\"#m2b911a93e6\" y=\"224.64\"/>\r\n      </g>\r\n     </g>\r\n     <g id=\"text_3\">\r\n      <!-- 6 -->\r\n      <g transform=\"translate(214.415341 239.238437)scale(0.1 -0.1)\">\r\n       <defs>\r\n        <path d=\"M 2113 2584 \r\nQ 1688 2584 1439 2293 \r\nQ 1191 2003 1191 1497 \r\nQ 1191 994 1439 701 \r\nQ 1688 409 2113 409 \r\nQ 2538 409 2786 701 \r\nQ 3034 994 3034 1497 \r\nQ 3034 2003 2786 2293 \r\nQ 2538 2584 2113 2584 \r\nz\r\nM 3366 4563 \r\nL 3366 3988 \r\nQ 3128 4100 2886 4159 \r\nQ 2644 4219 2406 4219 \r\nQ 1781 4219 1451 3797 \r\nQ 1122 3375 1075 2522 \r\nQ 1259 2794 1537 2939 \r\nQ 1816 3084 2150 3084 \r\nQ 2853 3084 3261 2657 \r\nQ 3669 2231 3669 1497 \r\nQ 3669 778 3244 343 \r\nQ 2819 -91 2113 -91 \r\nQ 1303 -91 875 529 \r\nQ 447 1150 447 2328 \r\nQ 447 3434 972 4092 \r\nQ 1497 4750 2381 4750 \r\nQ 2619 4750 2861 4703 \r\nQ 3103 4656 3366 4563 \r\nz\r\n\" id=\"DejaVuSans-36\" transform=\"scale(0.015625)\"/>\r\n       </defs>\r\n       <use xlink:href=\"#DejaVuSans-36\"/>\r\n      </g>\r\n     </g>\r\n    </g>\r\n    <g id=\"xtick_4\">\r\n     <g id=\"line2d_4\">\r\n      <g>\r\n       <use style=\"stroke:#000000;stroke-width:0.8;\" x=\"285.232955\" xlink:href=\"#m2b911a93e6\" y=\"224.64\"/>\r\n      </g>\r\n     </g>\r\n     <g id=\"text_4\">\r\n      <!-- 8 -->\r\n      <g transform=\"translate(282.051705 239.238437)scale(0.1 -0.1)\">\r\n       <defs>\r\n        <path d=\"M 2034 2216 \r\nQ 1584 2216 1326 1975 \r\nQ 1069 1734 1069 1313 \r\nQ 1069 891 1326 650 \r\nQ 1584 409 2034 409 \r\nQ 2484 409 2743 651 \r\nQ 3003 894 3003 1313 \r\nQ 3003 1734 2745 1975 \r\nQ 2488 2216 2034 2216 \r\nz\r\nM 1403 2484 \r\nQ 997 2584 770 2862 \r\nQ 544 3141 544 3541 \r\nQ 544 4100 942 4425 \r\nQ 1341 4750 2034 4750 \r\nQ 2731 4750 3128 4425 \r\nQ 3525 4100 3525 3541 \r\nQ 3525 3141 3298 2862 \r\nQ 3072 2584 2669 2484 \r\nQ 3125 2378 3379 2068 \r\nQ 3634 1759 3634 1313 \r\nQ 3634 634 3220 271 \r\nQ 2806 -91 2034 -91 \r\nQ 1263 -91 848 271 \r\nQ 434 634 434 1313 \r\nQ 434 1759 690 2068 \r\nQ 947 2378 1403 2484 \r\nz\r\nM 1172 3481 \r\nQ 1172 3119 1398 2916 \r\nQ 1625 2713 2034 2713 \r\nQ 2441 2713 2670 2916 \r\nQ 2900 3119 2900 3481 \r\nQ 2900 3844 2670 4047 \r\nQ 2441 4250 2034 4250 \r\nQ 1625 4250 1398 4047 \r\nQ 1172 3844 1172 3481 \r\nz\r\n\" id=\"DejaVuSans-38\" transform=\"scale(0.015625)\"/>\r\n       </defs>\r\n       <use xlink:href=\"#DejaVuSans-38\"/>\r\n      </g>\r\n     </g>\r\n    </g>\r\n    <g id=\"xtick_5\">\r\n     <g id=\"line2d_5\">\r\n      <g>\r\n       <use style=\"stroke:#000000;stroke-width:0.8;\" x=\"352.869318\" xlink:href=\"#m2b911a93e6\" y=\"224.64\"/>\r\n      </g>\r\n     </g>\r\n     <g id=\"text_5\">\r\n      <!-- 10 -->\r\n      <g transform=\"translate(346.506818 239.238437)scale(0.1 -0.1)\">\r\n       <defs>\r\n        <path d=\"M 794 531 \r\nL 1825 531 \r\nL 1825 4091 \r\nL 703 3866 \r\nL 703 4441 \r\nL 1819 4666 \r\nL 2450 4666 \r\nL 2450 531 \r\nL 3481 531 \r\nL 3481 0 \r\nL 794 0 \r\nL 794 531 \r\nz\r\n\" id=\"DejaVuSans-31\" transform=\"scale(0.015625)\"/>\r\n        <path d=\"M 2034 4250 \r\nQ 1547 4250 1301 3770 \r\nQ 1056 3291 1056 2328 \r\nQ 1056 1369 1301 889 \r\nQ 1547 409 2034 409 \r\nQ 2525 409 2770 889 \r\nQ 3016 1369 3016 2328 \r\nQ 3016 3291 2770 3770 \r\nQ 2525 4250 2034 4250 \r\nz\r\nM 2034 4750 \r\nQ 2819 4750 3233 4129 \r\nQ 3647 3509 3647 2328 \r\nQ 3647 1150 3233 529 \r\nQ 2819 -91 2034 -91 \r\nQ 1250 -91 836 529 \r\nQ 422 1150 422 2328 \r\nQ 422 3509 836 4129 \r\nQ 1250 4750 2034 4750 \r\nz\r\n\" id=\"DejaVuSans-30\" transform=\"scale(0.015625)\"/>\r\n       </defs>\r\n       <use xlink:href=\"#DejaVuSans-31\"/>\r\n       <use x=\"63.623047\" xlink:href=\"#DejaVuSans-30\"/>\r\n      </g>\r\n     </g>\r\n    </g>\r\n   </g>\r\n   <g id=\"matplotlib.axis_2\">\r\n    <g id=\"ytick_1\">\r\n     <g id=\"line2d_6\">\r\n      <defs>\r\n       <path d=\"M 0 0 \r\nL -3.5 0 \r\n\" id=\"mf8462343f7\" style=\"stroke:#000000;stroke-width:0.8;\"/>\r\n      </defs>\r\n      <g>\r\n       <use style=\"stroke:#000000;stroke-width:0.8;\" x=\"33.2875\" xlink:href=\"#mf8462343f7\" y=\"195.103543\"/>\r\n      </g>\r\n     </g>\r\n     <g id=\"text_6\">\r\n      <!-- 418 -->\r\n      <g transform=\"translate(7.2 198.902762)scale(0.1 -0.1)\">\r\n       <use xlink:href=\"#DejaVuSans-34\"/>\r\n       <use x=\"63.623047\" xlink:href=\"#DejaVuSans-31\"/>\r\n       <use x=\"127.246094\" xlink:href=\"#DejaVuSans-38\"/>\r\n      </g>\r\n     </g>\r\n    </g>\r\n    <g id=\"ytick_2\">\r\n     <g id=\"line2d_7\">\r\n      <g>\r\n       <use style=\"stroke:#000000;stroke-width:0.8;\" x=\"33.2875\" xlink:href=\"#mf8462343f7\" y=\"162.349176\"/>\r\n      </g>\r\n     </g>\r\n     <g id=\"text_7\">\r\n      <!-- 420 -->\r\n      <g transform=\"translate(7.2 166.148395)scale(0.1 -0.1)\">\r\n       <use xlink:href=\"#DejaVuSans-34\"/>\r\n       <use x=\"63.623047\" xlink:href=\"#DejaVuSans-32\"/>\r\n       <use x=\"127.246094\" xlink:href=\"#DejaVuSans-30\"/>\r\n      </g>\r\n     </g>\r\n    </g>\r\n    <g id=\"ytick_3\">\r\n     <g id=\"line2d_8\">\r\n      <g>\r\n       <use style=\"stroke:#000000;stroke-width:0.8;\" x=\"33.2875\" xlink:href=\"#mf8462343f7\" y=\"129.594808\"/>\r\n      </g>\r\n     </g>\r\n     <g id=\"text_8\">\r\n      <!-- 422 -->\r\n      <g transform=\"translate(7.2 133.394027)scale(0.1 -0.1)\">\r\n       <use xlink:href=\"#DejaVuSans-34\"/>\r\n       <use x=\"63.623047\" xlink:href=\"#DejaVuSans-32\"/>\r\n       <use x=\"127.246094\" xlink:href=\"#DejaVuSans-32\"/>\r\n      </g>\r\n     </g>\r\n    </g>\r\n    <g id=\"ytick_4\">\r\n     <g id=\"line2d_9\">\r\n      <g>\r\n       <use style=\"stroke:#000000;stroke-width:0.8;\" x=\"33.2875\" xlink:href=\"#mf8462343f7\" y=\"96.840441\"/>\r\n      </g>\r\n     </g>\r\n     <g id=\"text_9\">\r\n      <!-- 424 -->\r\n      <g transform=\"translate(7.2 100.63966)scale(0.1 -0.1)\">\r\n       <use xlink:href=\"#DejaVuSans-34\"/>\r\n       <use x=\"63.623047\" xlink:href=\"#DejaVuSans-32\"/>\r\n       <use x=\"127.246094\" xlink:href=\"#DejaVuSans-34\"/>\r\n      </g>\r\n     </g>\r\n    </g>\r\n    <g id=\"ytick_5\">\r\n     <g id=\"line2d_10\">\r\n      <g>\r\n       <use style=\"stroke:#000000;stroke-width:0.8;\" x=\"33.2875\" xlink:href=\"#mf8462343f7\" y=\"64.086074\"/>\r\n      </g>\r\n     </g>\r\n     <g id=\"text_10\">\r\n      <!-- 426 -->\r\n      <g transform=\"translate(7.2 67.885292)scale(0.1 -0.1)\">\r\n       <use xlink:href=\"#DejaVuSans-34\"/>\r\n       <use x=\"63.623047\" xlink:href=\"#DejaVuSans-32\"/>\r\n       <use x=\"127.246094\" xlink:href=\"#DejaVuSans-36\"/>\r\n      </g>\r\n     </g>\r\n    </g>\r\n    <g id=\"ytick_6\">\r\n     <g id=\"line2d_11\">\r\n      <g>\r\n       <use style=\"stroke:#000000;stroke-width:0.8;\" x=\"33.2875\" xlink:href=\"#mf8462343f7\" y=\"31.331706\"/>\r\n      </g>\r\n     </g>\r\n     <g id=\"text_11\">\r\n      <!-- 428 -->\r\n      <g transform=\"translate(7.2 35.130925)scale(0.1 -0.1)\">\r\n       <use xlink:href=\"#DejaVuSans-34\"/>\r\n       <use x=\"63.623047\" xlink:href=\"#DejaVuSans-32\"/>\r\n       <use x=\"127.246094\" xlink:href=\"#DejaVuSans-38\"/>\r\n      </g>\r\n     </g>\r\n    </g>\r\n   </g>\r\n   <g id=\"line2d_12\">\r\n    <path clip-path=\"url(#pfc56831ff8)\" d=\"M 48.505682 210.00684 \r\nL 82.323864 214.756364 \r\nL 116.142045 148.42847 \r\nL 149.960227 110.10592 \r\nL 183.778409 82.264508 \r\nL 217.596591 65.723892 \r\nL 251.414773 44.924549 \r\nL 285.232955 33.296888 \r\nL 319.051136 44.269821 \r\nL 352.869318 17.083636 \r\n\" style=\"fill:none;stroke:#0000ff;stroke-linecap:square;stroke-width:1.5;\"/>\r\n   </g>\r\n   <g id=\"patch_3\">\r\n    <path d=\"M 33.2875 224.64 \r\nL 33.2875 7.2 \r\n\" style=\"fill:none;stroke:#000000;stroke-linecap:square;stroke-linejoin:miter;stroke-width:0.8;\"/>\r\n   </g>\r\n   <g id=\"patch_4\">\r\n    <path d=\"M 368.0875 224.64 \r\nL 368.0875 7.2 \r\n\" style=\"fill:none;stroke:#000000;stroke-linecap:square;stroke-linejoin:miter;stroke-width:0.8;\"/>\r\n   </g>\r\n   <g id=\"patch_5\">\r\n    <path d=\"M 33.2875 224.64 \r\nL 368.0875 224.64 \r\n\" style=\"fill:none;stroke:#000000;stroke-linecap:square;stroke-linejoin:miter;stroke-width:0.8;\"/>\r\n   </g>\r\n   <g id=\"patch_6\">\r\n    <path d=\"M 33.2875 7.2 \r\nL 368.0875 7.2 \r\n\" style=\"fill:none;stroke:#000000;stroke-linecap:square;stroke-linejoin:miter;stroke-width:0.8;\"/>\r\n   </g>\r\n  </g>\r\n </g>\r\n <defs>\r\n  <clipPath id=\"pfc56831ff8\">\r\n   <rect height=\"217.44\" width=\"334.8\" x=\"33.2875\" y=\"7.2\"/>\r\n  </clipPath>\r\n </defs>\r\n</svg>\r\n",
      "image/png": "[encoded data removed]"
     },
     "metadata": {
      "needs_background": "light"
     }
    }
   ],
   "source": [
    "actprice = df.iloc[len(df)-10:, 1:2].values\n",
    "plt.plot([x for x in range(1,11)],np.concatenate(actprice, axis=0), color = 'blue', label = 'Actual')"
   ]
  },
  {
   "cell_type": "code",
   "execution_count": null,
   "metadata": {},
   "outputs": [],
   "source": []
  }
 ]
}